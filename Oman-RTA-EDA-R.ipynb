{
 "cells": [
  {
   "cell_type": "markdown",
   "metadata": {},
   "source": [
    "# Oman RTA (Road Traffic Accidents) Analysis in R\n"
   ]
  },
  {
   "cell_type": "markdown",
   "metadata": {},
   "source": [
    "***\n",
    "## 1. Data Extraction"
   ]
  },
  {
   "cell_type": "code",
   "execution_count": 217,
   "metadata": {},
   "outputs": [],
   "source": [
    "# @author: Aamir M. Khan\n",
    "# Created First: April 2 2019\n",
    "# Updated Last:"
   ]
  },
  {
   "cell_type": "markdown",
   "metadata": {},
   "source": [
    "### Import Libraries"
   ]
  },
  {
   "cell_type": "code",
   "execution_count": 218,
   "metadata": {},
   "outputs": [
    {
     "name": "stderr",
     "output_type": "stream",
     "text": [
      "Installing package into 'C:/Users/Aamir/Documents/R/win-library/3.5'\n",
      "(as 'lib' is unspecified)\n",
      "Warning message:\n",
      "\"package 'reshape' is in use and will not be installed\"Installing package into 'C:/Users/Aamir/Documents/R/win-library/3.5'\n",
      "(as 'lib' is unspecified)\n",
      "also installing the dependencies 'colorspace', 'utf8', 'labeling', 'munsell', 'RColorBrewer', 'fansi', 'pillar', 'pkgconfig', 'gtable', 'lazyeval', 'scales', 'tibble', 'viridisLite'\n",
      "\n"
     ]
    },
    {
     "name": "stdout",
     "output_type": "stream",
     "text": [
      "\n",
      "  There is a binary version available but the source version is later:\n",
      "        binary source needs_compilation\n",
      "ggplot2  3.1.0  3.1.1             FALSE\n",
      "\n",
      "package 'colorspace' successfully unpacked and MD5 sums checked\n",
      "package 'utf8' successfully unpacked and MD5 sums checked\n",
      "package 'labeling' successfully unpacked and MD5 sums checked\n",
      "package 'munsell' successfully unpacked and MD5 sums checked\n",
      "package 'RColorBrewer' successfully unpacked and MD5 sums checked\n",
      "package 'fansi' successfully unpacked and MD5 sums checked\n",
      "package 'pillar' successfully unpacked and MD5 sums checked\n",
      "package 'pkgconfig' successfully unpacked and MD5 sums checked\n",
      "package 'gtable' successfully unpacked and MD5 sums checked\n",
      "package 'lazyeval' successfully unpacked and MD5 sums checked\n",
      "package 'scales' successfully unpacked and MD5 sums checked\n",
      "package 'tibble' successfully unpacked and MD5 sums checked\n",
      "package 'viridisLite' successfully unpacked and MD5 sums checked\n",
      "\n",
      "The downloaded binary packages are in\n",
      "\tC:\\Users\\Aamir\\AppData\\Local\\Temp\\RtmpgrcuO3\\downloaded_packages\n"
     ]
    },
    {
     "name": "stderr",
     "output_type": "stream",
     "text": [
      "installing the source package 'ggplot2'\n",
      "\n"
     ]
    }
   ],
   "source": [
    "install.packages(\"reshape\")\n",
    "install.packages(\"ggplot2\")"
   ]
  },
  {
   "cell_type": "code",
   "execution_count": 219,
   "metadata": {},
   "outputs": [],
   "source": [
    "library(\"reshape\")\n",
    "library(\"ggplot2\")"
   ]
  },
  {
   "cell_type": "markdown",
   "metadata": {},
   "source": [
    "### Load Data Files"
   ]
  },
  {
   "cell_type": "code",
   "execution_count": 220,
   "metadata": {},
   "outputs": [
    {
     "data": {
      "text/html": [
       "<table>\n",
       "<thead><tr><th scope=col>Year</th><th scope=col>January</th><th scope=col>February</th><th scope=col>March</th><th scope=col>April</th><th scope=col>May</th><th scope=col>June</th><th scope=col>July</th><th scope=col>August</th><th scope=col>September</th><th scope=col>October</th><th scope=col>November</th><th scope=col>December</th></tr></thead>\n",
       "<tbody>\n",
       "\t<tr><td>2000</td><td>1122</td><td> 984</td><td>1241</td><td>1047</td><td>1185</td><td>1087</td><td>1205</td><td>1076</td><td>1096</td><td>1046</td><td> 987</td><td> 964</td></tr>\n",
       "\t<tr><td>2001</td><td>1114</td><td> 999</td><td>1055</td><td>1010</td><td>1081</td><td>1028</td><td>1014</td><td>1043</td><td>1160</td><td>1283</td><td>1203</td><td>1111</td></tr>\n",
       "\t<tr><td>2002</td><td>1251</td><td>1125</td><td>1097</td><td> 696</td><td> 695</td><td> 635</td><td> 552</td><td> 662</td><td> 535</td><td> 587</td><td> 646</td><td> 626</td></tr>\n",
       "\t<tr><td>2003</td><td> 754</td><td> 941</td><td> 996</td><td> 950</td><td>1026</td><td> 845</td><td> 838</td><td> 767</td><td> 711</td><td> 827</td><td> 758</td><td> 784</td></tr>\n",
       "\t<tr><td>2004</td><td> 876</td><td> 729</td><td> 735</td><td> 816</td><td> 846</td><td> 793</td><td> 804</td><td> 891</td><td> 743</td><td> 805</td><td> 688</td><td> 735</td></tr>\n",
       "</tbody>\n",
       "</table>\n"
      ],
      "text/latex": [
       "\\begin{tabular}{r|lllllllllllll}\n",
       " Year & January & February & March & April & May & June & July & August & September & October & November & December\\\\\n",
       "\\hline\n",
       "\t 2000 & 1122 &  984 & 1241 & 1047 & 1185 & 1087 & 1205 & 1076 & 1096 & 1046 &  987 &  964\\\\\n",
       "\t 2001 & 1114 &  999 & 1055 & 1010 & 1081 & 1028 & 1014 & 1043 & 1160 & 1283 & 1203 & 1111\\\\\n",
       "\t 2002 & 1251 & 1125 & 1097 &  696 &  695 &  635 &  552 &  662 &  535 &  587 &  646 &  626\\\\\n",
       "\t 2003 &  754 &  941 &  996 &  950 & 1026 &  845 &  838 &  767 &  711 &  827 &  758 &  784\\\\\n",
       "\t 2004 &  876 &  729 &  735 &  816 &  846 &  793 &  804 &  891 &  743 &  805 &  688 &  735\\\\\n",
       "\\end{tabular}\n"
      ],
      "text/markdown": [
       "\n",
       "| Year | January | February | March | April | May | June | July | August | September | October | November | December |\n",
       "|---|---|---|---|---|---|---|---|---|---|---|---|---|\n",
       "| 2000 | 1122 |  984 | 1241 | 1047 | 1185 | 1087 | 1205 | 1076 | 1096 | 1046 |  987 |  964 |\n",
       "| 2001 | 1114 |  999 | 1055 | 1010 | 1081 | 1028 | 1014 | 1043 | 1160 | 1283 | 1203 | 1111 |\n",
       "| 2002 | 1251 | 1125 | 1097 |  696 |  695 |  635 |  552 |  662 |  535 |  587 |  646 |  626 |\n",
       "| 2003 |  754 |  941 |  996 |  950 | 1026 |  845 |  838 |  767 |  711 |  827 |  758 |  784 |\n",
       "| 2004 |  876 |  729 |  735 |  816 |  846 |  793 |  804 |  891 |  743 |  805 |  688 |  735 |\n",
       "\n"
      ],
      "text/plain": [
       "  Year January February March April May  June July August September October\n",
       "1 2000 1122     984     1241  1047  1185 1087 1205 1076   1096      1046   \n",
       "2 2001 1114     999     1055  1010  1081 1028 1014 1043   1160      1283   \n",
       "3 2002 1251    1125     1097   696   695  635  552  662    535       587   \n",
       "4 2003  754     941      996   950  1026  845  838  767    711       827   \n",
       "5 2004  876     729      735   816   846  793  804  891    743       805   \n",
       "  November December\n",
       "1  987      964    \n",
       "2 1203     1111    \n",
       "3  646      626    \n",
       "4  758      784    \n",
       "5  688      735    "
      ]
     },
     "metadata": {},
     "output_type": "display_data"
    }
   ],
   "source": [
    "accidents <- read.csv(\"data/accidents_monthly.csv\")\n",
    "head(accidents,5)"
   ]
  },
  {
   "cell_type": "code",
   "execution_count": 221,
   "metadata": {},
   "outputs": [
    {
     "data": {
      "text/html": [
       "<table>\n",
       "<thead><tr><th scope=col>Year</th><th scope=col>January</th><th scope=col>February</th><th scope=col>March</th><th scope=col>April</th><th scope=col>May</th><th scope=col>June</th><th scope=col>July</th><th scope=col>August</th><th scope=col>September</th><th scope=col>October</th><th scope=col>November</th><th scope=col>December</th></tr></thead>\n",
       "<tbody>\n",
       "\t<tr><td>2000</td><td>883 </td><td>755 </td><td>852 </td><td>737 </td><td>794 </td><td>657 </td><td>849 </td><td>777 </td><td>717 </td><td>768 </td><td>691 </td><td>843 </td></tr>\n",
       "\t<tr><td>2001</td><td>868 </td><td>689 </td><td>856 </td><td>716 </td><td>767 </td><td>819 </td><td>827 </td><td>774 </td><td>761 </td><td>857 </td><td>869 </td><td>822 </td></tr>\n",
       "\t<tr><td>2002</td><td>985 </td><td>855 </td><td>740 </td><td>563 </td><td>609 </td><td>641 </td><td>468 </td><td>686 </td><td>494 </td><td>696 </td><td>588 </td><td>629 </td></tr>\n",
       "\t<tr><td>2003</td><td>604 </td><td>642 </td><td>527 </td><td>546 </td><td>567 </td><td>509 </td><td>608 </td><td>654 </td><td>444 </td><td>603 </td><td>551 </td><td>480 </td></tr>\n",
       "\t<tr><td>2004</td><td>560 </td><td>571 </td><td>477 </td><td>523 </td><td>537 </td><td>514 </td><td>567 </td><td>744 </td><td>503 </td><td>614 </td><td>563 </td><td>463 </td></tr>\n",
       "</tbody>\n",
       "</table>\n"
      ],
      "text/latex": [
       "\\begin{tabular}{r|lllllllllllll}\n",
       " Year & January & February & March & April & May & June & July & August & September & October & November & December\\\\\n",
       "\\hline\n",
       "\t 2000 & 883  & 755  & 852  & 737  & 794  & 657  & 849  & 777  & 717  & 768  & 691  & 843 \\\\\n",
       "\t 2001 & 868  & 689  & 856  & 716  & 767  & 819  & 827  & 774  & 761  & 857  & 869  & 822 \\\\\n",
       "\t 2002 & 985  & 855  & 740  & 563  & 609  & 641  & 468  & 686  & 494  & 696  & 588  & 629 \\\\\n",
       "\t 2003 & 604  & 642  & 527  & 546  & 567  & 509  & 608  & 654  & 444  & 603  & 551  & 480 \\\\\n",
       "\t 2004 & 560  & 571  & 477  & 523  & 537  & 514  & 567  & 744  & 503  & 614  & 563  & 463 \\\\\n",
       "\\end{tabular}\n"
      ],
      "text/markdown": [
       "\n",
       "| Year | January | February | March | April | May | June | July | August | September | October | November | December |\n",
       "|---|---|---|---|---|---|---|---|---|---|---|---|---|\n",
       "| 2000 | 883  | 755  | 852  | 737  | 794  | 657  | 849  | 777  | 717  | 768  | 691  | 843  |\n",
       "| 2001 | 868  | 689  | 856  | 716  | 767  | 819  | 827  | 774  | 761  | 857  | 869  | 822  |\n",
       "| 2002 | 985  | 855  | 740  | 563  | 609  | 641  | 468  | 686  | 494  | 696  | 588  | 629  |\n",
       "| 2003 | 604  | 642  | 527  | 546  | 567  | 509  | 608  | 654  | 444  | 603  | 551  | 480  |\n",
       "| 2004 | 560  | 571  | 477  | 523  | 537  | 514  | 567  | 744  | 503  | 614  | 563  | 463  |\n",
       "\n"
      ],
      "text/plain": [
       "  Year January February March April May June July August September October\n",
       "1 2000 883     755      852   737   794 657  849  777    717       768    \n",
       "2 2001 868     689      856   716   767 819  827  774    761       857    \n",
       "3 2002 985     855      740   563   609 641  468  686    494       696    \n",
       "4 2003 604     642      527   546   567 509  608  654    444       603    \n",
       "5 2004 560     571      477   523   537 514  567  744    503       614    \n",
       "  November December\n",
       "1 691      843     \n",
       "2 869      822     \n",
       "3 588      629     \n",
       "4 551      480     \n",
       "5 563      463     "
      ]
     },
     "metadata": {},
     "output_type": "display_data"
    }
   ],
   "source": [
    "injuries <- read.csv(\"data/injuries_month.csv\")\n",
    "head(injuries,5)"
   ]
  },
  {
   "cell_type": "code",
   "execution_count": 222,
   "metadata": {},
   "outputs": [
    {
     "data": {
      "text/html": [
       "<ol class=list-inline>\n",
       "\t<li>19</li>\n",
       "\t<li>13</li>\n",
       "</ol>\n"
      ],
      "text/latex": [
       "\\begin{enumerate*}\n",
       "\\item 19\n",
       "\\item 13\n",
       "\\end{enumerate*}\n"
      ],
      "text/markdown": [
       "1. 19\n",
       "2. 13\n",
       "\n",
       "\n"
      ],
      "text/plain": [
       "[1] 19 13"
      ]
     },
     "metadata": {},
     "output_type": "display_data"
    },
    {
     "data": {
      "text/html": [
       "<ol class=list-inline>\n",
       "\t<li>19</li>\n",
       "\t<li>13</li>\n",
       "</ol>\n"
      ],
      "text/latex": [
       "\\begin{enumerate*}\n",
       "\\item 19\n",
       "\\item 13\n",
       "\\end{enumerate*}\n"
      ],
      "text/markdown": [
       "1. 19\n",
       "2. 13\n",
       "\n",
       "\n"
      ],
      "text/plain": [
       "[1] 19 13"
      ]
     },
     "metadata": {},
     "output_type": "display_data"
    }
   ],
   "source": [
    "dim(accidents); dim(injuries)"
   ]
  },
  {
   "cell_type": "code",
   "execution_count": null,
   "metadata": {},
   "outputs": [],
   "source": []
  },
  {
   "cell_type": "markdown",
   "metadata": {},
   "source": [
    "### Cleaning the Data"
   ]
  },
  {
   "cell_type": "markdown",
   "metadata": {},
   "source": [
    "**accidents table**"
   ]
  },
  {
   "cell_type": "code",
   "execution_count": 223,
   "metadata": {},
   "outputs": [
    {
     "data": {
      "text/html": [
       "<table>\n",
       "<thead><tr><th scope=col>Year</th><th scope=col>Month</th><th scope=col>Values</th></tr></thead>\n",
       "<tbody>\n",
       "\t<tr><td>2000   </td><td>January</td><td>1122   </td></tr>\n",
       "\t<tr><td>2001   </td><td>January</td><td>1114   </td></tr>\n",
       "\t<tr><td>2002   </td><td>January</td><td>1251   </td></tr>\n",
       "\t<tr><td>2003   </td><td>January</td><td> 754   </td></tr>\n",
       "\t<tr><td>2004   </td><td>January</td><td> 876   </td></tr>\n",
       "</tbody>\n",
       "</table>\n"
      ],
      "text/latex": [
       "\\begin{tabular}{r|lll}\n",
       " Year & Month & Values\\\\\n",
       "\\hline\n",
       "\t 2000    & January & 1122   \\\\\n",
       "\t 2001    & January & 1114   \\\\\n",
       "\t 2002    & January & 1251   \\\\\n",
       "\t 2003    & January &  754   \\\\\n",
       "\t 2004    & January &  876   \\\\\n",
       "\\end{tabular}\n"
      ],
      "text/markdown": [
       "\n",
       "| Year | Month | Values |\n",
       "|---|---|---|\n",
       "| 2000    | January | 1122    |\n",
       "| 2001    | January | 1114    |\n",
       "| 2002    | January | 1251    |\n",
       "| 2003    | January |  754    |\n",
       "| 2004    | January |  876    |\n",
       "\n"
      ],
      "text/plain": [
       "  Year Month   Values\n",
       "1 2000 January 1122  \n",
       "2 2001 January 1114  \n",
       "3 2002 January 1251  \n",
       "4 2003 January  754  \n",
       "5 2004 January  876  "
      ]
     },
     "metadata": {},
     "output_type": "display_data"
    }
   ],
   "source": [
    "accidents = melt(accidents,id='Year',variable.name='Month',value.name='Values')\n",
    "head(accidents,5)"
   ]
  },
  {
   "cell_type": "code",
   "execution_count": 224,
   "metadata": {},
   "outputs": [],
   "source": [
    "accidents$Month = as.integer(factor(accidents$Month, levels = unique(accidents$Month)))"
   ]
  },
  {
   "cell_type": "code",
   "execution_count": 225,
   "metadata": {},
   "outputs": [],
   "source": [
    "accidents = na.omit(accidents)"
   ]
  },
  {
   "cell_type": "code",
   "execution_count": 226,
   "metadata": {},
   "outputs": [],
   "source": [
    "accidents$Time <- as.Date(sprintf(\"%d-%02d-%02d\", accidents$Year, accidents$Month,1))"
   ]
  },
  {
   "cell_type": "code",
   "execution_count": 227,
   "metadata": {},
   "outputs": [],
   "source": [
    "accidents <- accidents[c('Time','Values')]"
   ]
  },
  {
   "cell_type": "code",
   "execution_count": 228,
   "metadata": {},
   "outputs": [],
   "source": [
    "accidents <- accidents[order(accidents$Time),]"
   ]
  },
  {
   "cell_type": "code",
   "execution_count": 229,
   "metadata": {},
   "outputs": [],
   "source": [
    "rownames(accidents) <- NULL"
   ]
  },
  {
   "cell_type": "code",
   "execution_count": 230,
   "metadata": {},
   "outputs": [
    {
     "data": {
      "text/html": [
       "<table>\n",
       "<thead><tr><th scope=col>Time</th><th scope=col>Values</th></tr></thead>\n",
       "<tbody>\n",
       "\t<tr><td>2000-01-01</td><td>1122      </td></tr>\n",
       "\t<tr><td>2000-02-01</td><td> 984      </td></tr>\n",
       "\t<tr><td>2000-03-01</td><td>1241      </td></tr>\n",
       "\t<tr><td>2000-04-01</td><td>1047      </td></tr>\n",
       "\t<tr><td>2000-05-01</td><td>1185      </td></tr>\n",
       "</tbody>\n",
       "</table>\n"
      ],
      "text/latex": [
       "\\begin{tabular}{r|ll}\n",
       " Time & Values\\\\\n",
       "\\hline\n",
       "\t 2000-01-01 & 1122      \\\\\n",
       "\t 2000-02-01 &  984      \\\\\n",
       "\t 2000-03-01 & 1241      \\\\\n",
       "\t 2000-04-01 & 1047      \\\\\n",
       "\t 2000-05-01 & 1185      \\\\\n",
       "\\end{tabular}\n"
      ],
      "text/markdown": [
       "\n",
       "| Time | Values |\n",
       "|---|---|\n",
       "| 2000-01-01 | 1122       |\n",
       "| 2000-02-01 |  984       |\n",
       "| 2000-03-01 | 1241       |\n",
       "| 2000-04-01 | 1047       |\n",
       "| 2000-05-01 | 1185       |\n",
       "\n"
      ],
      "text/plain": [
       "  Time       Values\n",
       "1 2000-01-01 1122  \n",
       "2 2000-02-01  984  \n",
       "3 2000-03-01 1241  \n",
       "4 2000-04-01 1047  \n",
       "5 2000-05-01 1185  "
      ]
     },
     "metadata": {},
     "output_type": "display_data"
    }
   ],
   "source": [
    "head(accidents,5)"
   ]
  },
  {
   "cell_type": "markdown",
   "metadata": {},
   "source": [
    "**injuries table**"
   ]
  },
  {
   "cell_type": "code",
   "execution_count": 231,
   "metadata": {},
   "outputs": [
    {
     "data": {
      "text/html": [
       "<table>\n",
       "<thead><tr><th scope=col>Year</th><th scope=col>Month</th><th scope=col>Values</th></tr></thead>\n",
       "<tbody>\n",
       "\t<tr><td>2000   </td><td>January</td><td>883    </td></tr>\n",
       "\t<tr><td>2001   </td><td>January</td><td>868    </td></tr>\n",
       "\t<tr><td>2002   </td><td>January</td><td>985    </td></tr>\n",
       "\t<tr><td>2003   </td><td>January</td><td>604    </td></tr>\n",
       "\t<tr><td>2004   </td><td>January</td><td>560    </td></tr>\n",
       "</tbody>\n",
       "</table>\n"
      ],
      "text/latex": [
       "\\begin{tabular}{r|lll}\n",
       " Year & Month & Values\\\\\n",
       "\\hline\n",
       "\t 2000    & January & 883    \\\\\n",
       "\t 2001    & January & 868    \\\\\n",
       "\t 2002    & January & 985    \\\\\n",
       "\t 2003    & January & 604    \\\\\n",
       "\t 2004    & January & 560    \\\\\n",
       "\\end{tabular}\n"
      ],
      "text/markdown": [
       "\n",
       "| Year | Month | Values |\n",
       "|---|---|---|\n",
       "| 2000    | January | 883     |\n",
       "| 2001    | January | 868     |\n",
       "| 2002    | January | 985     |\n",
       "| 2003    | January | 604     |\n",
       "| 2004    | January | 560     |\n",
       "\n"
      ],
      "text/plain": [
       "  Year Month   Values\n",
       "1 2000 January 883   \n",
       "2 2001 January 868   \n",
       "3 2002 January 985   \n",
       "4 2003 January 604   \n",
       "5 2004 January 560   "
      ]
     },
     "metadata": {},
     "output_type": "display_data"
    }
   ],
   "source": [
    "injuries = melt(injuries,id='Year',variable.name='Month',value.name='Values')\n",
    "head(injuries,5)"
   ]
  },
  {
   "cell_type": "code",
   "execution_count": 232,
   "metadata": {},
   "outputs": [],
   "source": [
    "injuries$Month = as.integer(factor(injuries$Month, levels = unique(injuries$Month)))"
   ]
  },
  {
   "cell_type": "code",
   "execution_count": 233,
   "metadata": {},
   "outputs": [],
   "source": [
    "injuries = na.omit(injuries)"
   ]
  },
  {
   "cell_type": "code",
   "execution_count": 234,
   "metadata": {},
   "outputs": [],
   "source": [
    "injuries$Time <- as.Date(sprintf(\"%d-%02d-%02d\", injuries$Year, injuries$Month,1))"
   ]
  },
  {
   "cell_type": "code",
   "execution_count": 235,
   "metadata": {},
   "outputs": [],
   "source": [
    "injuries <- injuries[c('Time','Values')]"
   ]
  },
  {
   "cell_type": "code",
   "execution_count": 236,
   "metadata": {},
   "outputs": [],
   "source": [
    "injuries <- injuries[order(injuries$Time),]"
   ]
  },
  {
   "cell_type": "code",
   "execution_count": 237,
   "metadata": {},
   "outputs": [],
   "source": [
    "rownames(injuries) <- NULL"
   ]
  },
  {
   "cell_type": "code",
   "execution_count": 238,
   "metadata": {},
   "outputs": [
    {
     "data": {
      "text/html": [
       "<table>\n",
       "<thead><tr><th scope=col>Time</th><th scope=col>Values</th></tr></thead>\n",
       "<tbody>\n",
       "\t<tr><td>2000-01-01</td><td>883       </td></tr>\n",
       "\t<tr><td>2000-02-01</td><td>755       </td></tr>\n",
       "\t<tr><td>2000-03-01</td><td>852       </td></tr>\n",
       "\t<tr><td>2000-04-01</td><td>737       </td></tr>\n",
       "\t<tr><td>2000-05-01</td><td>794       </td></tr>\n",
       "</tbody>\n",
       "</table>\n"
      ],
      "text/latex": [
       "\\begin{tabular}{r|ll}\n",
       " Time & Values\\\\\n",
       "\\hline\n",
       "\t 2000-01-01 & 883       \\\\\n",
       "\t 2000-02-01 & 755       \\\\\n",
       "\t 2000-03-01 & 852       \\\\\n",
       "\t 2000-04-01 & 737       \\\\\n",
       "\t 2000-05-01 & 794       \\\\\n",
       "\\end{tabular}\n"
      ],
      "text/markdown": [
       "\n",
       "| Time | Values |\n",
       "|---|---|\n",
       "| 2000-01-01 | 883        |\n",
       "| 2000-02-01 | 755        |\n",
       "| 2000-03-01 | 852        |\n",
       "| 2000-04-01 | 737        |\n",
       "| 2000-05-01 | 794        |\n",
       "\n"
      ],
      "text/plain": [
       "  Time       Values\n",
       "1 2000-01-01 883   \n",
       "2 2000-02-01 755   \n",
       "3 2000-03-01 852   \n",
       "4 2000-04-01 737   \n",
       "5 2000-05-01 794   "
      ]
     },
     "metadata": {},
     "output_type": "display_data"
    }
   ],
   "source": [
    "head(injuries,5)"
   ]
  },
  {
   "cell_type": "markdown",
   "metadata": {},
   "source": [
    "### Merge two tables"
   ]
  },
  {
   "cell_type": "code",
   "execution_count": null,
   "metadata": {},
   "outputs": [],
   "source": []
  },
  {
   "cell_type": "code",
   "execution_count": null,
   "metadata": {},
   "outputs": [],
   "source": []
  },
  {
   "cell_type": "code",
   "execution_count": null,
   "metadata": {},
   "outputs": [],
   "source": []
  },
  {
   "cell_type": "markdown",
   "metadata": {},
   "source": [
    "### Exploratory Data Analysis"
   ]
  },
  {
   "cell_type": "code",
   "execution_count": 246,
   "metadata": {},
   "outputs": [
    {
     "data": {
      "image/png": "[encoded data removed]",
      "text/plain": [
       "Plot with title \"No. of accidents/injuries in Oman between 2000 and 2018\""
      ]
     },
     "metadata": {},
     "output_type": "display_data"
    }
   ],
   "source": [
    "plot(accidents$Time, accidents$Values, type='l', col='red', \n",
    "     xlab='Time', ylab='Number of Accidents/Injuries', lty=2)\n",
    "title('No. of accidents/injuries in Oman between 2000 and 2018')\n",
    "lines(injuries$Time, injuries$Values, type='l', col='blue', lty=1)\n",
    "legend(\"topright\", inset=.01, legend=c(\"accidents\",\"injuries\"), col=c(\"red\",\"blue\"),lty=c(2,1), ncol=1)"
   ]
  },
  {
   "cell_type": "markdown",
   "metadata": {},
   "source": [
    "**Visual for the years 2012-2014**"
   ]
  },
  {
   "cell_type": "code",
   "execution_count": 247,
   "metadata": {},
   "outputs": [],
   "source": [
    "temp1 <- accidents[accidents$Time>='2012-01-01' & accidents$Time<'2015-01-01',]\n",
    "temp2 <- injuries[injuries$Time>='2012-01-01' & injuries$Time<'2015-01-01',]"
   ]
  },
  {
   "cell_type": "code",
   "execution_count": 248,
   "metadata": {},
   "outputs": [
    {
     "data": {
      "image/png": "[encoded data removed]",
      "text/plain": [
       "Plot with title \"No. of accidents/injuries in Oman between 2012 and 2015\""
      ]
     },
     "metadata": {},
     "output_type": "display_data"
    }
   ],
   "source": [
    "plot(temp1$Time, temp1$Values, type='l', col='red', ylim = c(0,1300),\n",
    "     xlab='Time', ylab='Number of Accidents/Injuries', lty=2)\n",
    "title('No. of accidents/injuries in Oman between 2012 and 2015')\n",
    "lines(temp2$Time, temp2$Values, type='l', col='blue', lty=1)\n",
    "legend(\"topright\", inset=.01, legend=c(\"accidents\",\"injuries\"), col=c(\"red\",\"blue\"),lty=c(2,1), ncol=1)"
   ]
  },
  {
   "cell_type": "code",
   "execution_count": null,
   "metadata": {},
   "outputs": [],
   "source": []
  },
  {
   "cell_type": "code",
   "execution_count": null,
   "metadata": {},
   "outputs": [],
   "source": []
  },
  {
   "cell_type": "markdown",
   "metadata": {},
   "source": [
    "### Datatype integrity check"
   ]
  },
  {
   "cell_type": "code",
   "execution_count": null,
   "metadata": {},
   "outputs": [],
   "source": []
  },
  {
   "cell_type": "code",
   "execution_count": null,
   "metadata": {},
   "outputs": [],
   "source": []
  },
  {
   "cell_type": "code",
   "execution_count": null,
   "metadata": {},
   "outputs": [],
   "source": []
  },
  {
   "cell_type": "code",
   "execution_count": null,
   "metadata": {},
   "outputs": [],
   "source": []
  },
  {
   "cell_type": "markdown",
   "metadata": {},
   "source": [
    "### Feature engineering"
   ]
  },
  {
   "cell_type": "code",
   "execution_count": null,
   "metadata": {},
   "outputs": [],
   "source": []
  },
  {
   "cell_type": "code",
   "execution_count": null,
   "metadata": {},
   "outputs": [],
   "source": []
  },
  {
   "cell_type": "code",
   "execution_count": null,
   "metadata": {},
   "outputs": [],
   "source": []
  },
  {
   "cell_type": "markdown",
   "metadata": {},
   "source": [
    "### Split Training/Validation/Test Sets"
   ]
  },
  {
   "cell_type": "code",
   "execution_count": null,
   "metadata": {},
   "outputs": [],
   "source": []
  },
  {
   "cell_type": "code",
   "execution_count": null,
   "metadata": {},
   "outputs": [],
   "source": []
  },
  {
   "cell_type": "code",
   "execution_count": null,
   "metadata": {},
   "outputs": [],
   "source": []
  },
  {
   "cell_type": "code",
   "execution_count": null,
   "metadata": {},
   "outputs": [],
   "source": []
  },
  {
   "cell_type": "code",
   "execution_count": null,
   "metadata": {},
   "outputs": [],
   "source": []
  },
  {
   "cell_type": "code",
   "execution_count": null,
   "metadata": {},
   "outputs": [],
   "source": []
  },
  {
   "cell_type": "markdown",
   "metadata": {},
   "source": [
    "***\n",
    "## MACHINE LEARNING\n",
    "## 2. Train the Model"
   ]
  },
  {
   "cell_type": "markdown",
   "metadata": {},
   "source": [
    "### MODEL 1"
   ]
  },
  {
   "cell_type": "code",
   "execution_count": null,
   "metadata": {},
   "outputs": [],
   "source": []
  },
  {
   "cell_type": "code",
   "execution_count": null,
   "metadata": {},
   "outputs": [],
   "source": []
  },
  {
   "cell_type": "code",
   "execution_count": null,
   "metadata": {},
   "outputs": [],
   "source": []
  },
  {
   "cell_type": "code",
   "execution_count": null,
   "metadata": {},
   "outputs": [],
   "source": []
  },
  {
   "cell_type": "code",
   "execution_count": null,
   "metadata": {},
   "outputs": [],
   "source": []
  },
  {
   "cell_type": "code",
   "execution_count": null,
   "metadata": {
    "collapsed": true
   },
   "outputs": [],
   "source": []
  },
  {
   "cell_type": "markdown",
   "metadata": {},
   "source": [
    "### MODEL 2"
   ]
  },
  {
   "cell_type": "code",
   "execution_count": null,
   "metadata": {},
   "outputs": [],
   "source": []
  },
  {
   "cell_type": "code",
   "execution_count": null,
   "metadata": {},
   "outputs": [],
   "source": []
  },
  {
   "cell_type": "code",
   "execution_count": null,
   "metadata": {},
   "outputs": [],
   "source": []
  },
  {
   "cell_type": "code",
   "execution_count": null,
   "metadata": {},
   "outputs": [],
   "source": []
  },
  {
   "cell_type": "code",
   "execution_count": null,
   "metadata": {},
   "outputs": [],
   "source": []
  },
  {
   "cell_type": "markdown",
   "metadata": {},
   "source": [
    "### MODEL 3"
   ]
  },
  {
   "cell_type": "code",
   "execution_count": null,
   "metadata": {},
   "outputs": [],
   "source": []
  },
  {
   "cell_type": "code",
   "execution_count": null,
   "metadata": {},
   "outputs": [],
   "source": []
  },
  {
   "cell_type": "code",
   "execution_count": null,
   "metadata": {},
   "outputs": [],
   "source": []
  },
  {
   "cell_type": "code",
   "execution_count": null,
   "metadata": {},
   "outputs": [],
   "source": []
  },
  {
   "cell_type": "code",
   "execution_count": null,
   "metadata": {},
   "outputs": [],
   "source": []
  },
  {
   "cell_type": "code",
   "execution_count": null,
   "metadata": {},
   "outputs": [],
   "source": []
  },
  {
   "cell_type": "markdown",
   "metadata": {},
   "source": [
    "***\n",
    "## 3. Predict New Data"
   ]
  },
  {
   "cell_type": "markdown",
   "metadata": {},
   "source": [
    "### Clean data"
   ]
  },
  {
   "cell_type": "code",
   "execution_count": null,
   "metadata": {},
   "outputs": [],
   "source": []
  },
  {
   "cell_type": "code",
   "execution_count": null,
   "metadata": {},
   "outputs": [],
   "source": []
  },
  {
   "cell_type": "code",
   "execution_count": null,
   "metadata": {},
   "outputs": [],
   "source": []
  },
  {
   "cell_type": "code",
   "execution_count": null,
   "metadata": {},
   "outputs": [],
   "source": []
  },
  {
   "cell_type": "markdown",
   "metadata": {},
   "source": [
    "### Make predictions "
   ]
  },
  {
   "cell_type": "code",
   "execution_count": null,
   "metadata": {},
   "outputs": [],
   "source": []
  },
  {
   "cell_type": "code",
   "execution_count": null,
   "metadata": {},
   "outputs": [],
   "source": []
  },
  {
   "cell_type": "code",
   "execution_count": null,
   "metadata": {},
   "outputs": [],
   "source": []
  },
  {
   "cell_type": "code",
   "execution_count": null,
   "metadata": {},
   "outputs": [],
   "source": []
  },
  {
   "cell_type": "code",
   "execution_count": null,
   "metadata": {},
   "outputs": [],
   "source": []
  },
  {
   "cell_type": "markdown",
   "metadata": {},
   "source": [
    "***\n",
    "***\n",
    "# Rough Work "
   ]
  },
  {
   "cell_type": "code",
   "execution_count": null,
   "metadata": {},
   "outputs": [],
   "source": []
  },
  {
   "cell_type": "code",
   "execution_count": null,
   "metadata": {},
   "outputs": [],
   "source": []
  },
  {
   "cell_type": "code",
   "execution_count": null,
   "metadata": {},
   "outputs": [],
   "source": []
  },
  {
   "cell_type": "code",
   "execution_count": null,
   "metadata": {},
   "outputs": [],
   "source": []
  }
 ],
 "metadata": {
  "kernelspec": {
   "display_name": "R",
   "language": "R",
   "name": "ir"
  },
  "language_info": {
   "codemirror_mode": "r",
   "file_extension": ".r",
   "mimetype": "text/x-r-source",
   "name": "R",
   "pygments_lexer": "r",
   "version": "3.5.3"
  }
 },
 "nbformat": 4,
 "nbformat_minor": 2
}
